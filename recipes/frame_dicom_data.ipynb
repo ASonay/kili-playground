{
 "cells": [
  {
   "cell_type": "markdown",
   "metadata": {},
   "source": [
    "# Kili Tutorial: Importing medical data into a frame project "
   ]
  },
  {
   "cell_type": "markdown",
   "metadata": {},
   "source": [
    "In this tutorial, we will show you how to import dicom data into a [Frame Kili project](https://cloud.kili-technology.com/docs/video-interfaces/multi-frames-classification/#docsNav). Such projects allow you to annotate volumes of image data.\n",
    "\n",
    "The data we use comes from [The Cancer Genome Atlas Lung Adenocarcinoma (TCGA-LUAD) data collection](https://wiki.cancerimagingarchive.net/display/Public/TCGA-LUAD). We selected 3 scans out of this dataset."
   ]
  },
  {
   "cell_type": "markdown",
   "metadata": {},
   "source": [
    "## Downloading data"
   ]
  },
  {
   "cell_type": "markdown",
   "metadata": {},
   "source": [
    "Let's first import the scans. We host these files in a .zip on GDrive."
   ]
  },
  {
   "cell_type": "code",
   "execution_count": 1,
   "metadata": {},
   "outputs": [],
   "source": [
    "import os\n",
    "import subprocess\n",
    "\n",
    "import tqdm"
   ]
  },
  {
   "cell_type": "code",
   "execution_count": 2,
   "metadata": {},
   "outputs": [],
   "source": [
    "os.makedirs(os.path.expanduser('~/Downloads'), exist_ok=True)"
   ]
  },
  {
   "cell_type": "markdown",
   "metadata": {},
   "source": [
    "We will use a small package to help downloading the file hosted on Google Drive"
   ]
  },
  {
   "cell_type": "code",
   "execution_count": 3,
   "metadata": {
    "scrolled": true
   },
   "outputs": [
    {
     "name": "stderr",
     "output_type": "stream",
     "text": [
      "fatal: destination path 'download_google_drive' already exists and is not an empty directory.\n"
     ]
    }
   ],
   "source": [
    "%%bash\n",
    "git clone https://github.com/chentinghao/download_google_drive.git\n",
    "cd download_google_drive/\n",
    "python download_gdrive.py 1q3qswXthFh3xMtAAnePph6vav3N7UtOF ~/Downloads/dicom_files.zip"
   ]
  },
  {
   "cell_type": "code",
   "execution_count": 4,
   "metadata": {},
   "outputs": [
    {
     "name": "stdout",
     "output_type": "stream",
     "text": [
      "zsh:1: command not found: apt-get\n"
     ]
    }
   ],
   "source": [
    "!apt-get install unzip"
   ]
  },
  {
   "cell_type": "code",
   "execution_count": 5,
   "metadata": {},
   "outputs": [],
   "source": [
    "!unzip -o ~/Downloads/dicom_files.zip -d ~/Downloads/ > /dev/null"
   ]
  },
  {
   "cell_type": "markdown",
   "metadata": {},
   "source": [
    "## Reading data"
   ]
  },
  {
   "cell_type": "markdown",
   "metadata": {},
   "source": [
    "We can then read the dicom files with [pydicom](https://pydicom.github.io/pydicom/stable/)."
   ]
  },
  {
   "cell_type": "code",
   "execution_count": 6,
   "metadata": {},
   "outputs": [],
   "source": [
    "ASSET_ROOT = os.path.expanduser('~/Downloads/TCGA-LUAD')\n",
    "\n",
    "sorted_files = {}\n",
    "asset_number = 0\n",
    "for root, dirs, files in os.walk(ASSET_ROOT):\n",
    "    if len(files) > 0:\n",
    "        file_paths = list(map(lambda path: os.path.join(root, path), files))\n",
    "        sorted_files[f'asset-{asset_number+1}'] = sorted(file_paths,\n",
    "            key=lambda path: int(path.split('/')[-1].split('-')[1].split('.')[0]))\n",
    "        asset_number += 1"
   ]
  },
  {
   "cell_type": "markdown",
   "metadata": {},
   "source": [
    "Let's see what is inside the dataset :"
   ]
  },
  {
   "cell_type": "code",
   "execution_count": 7,
   "metadata": {
    "scrolled": false
   },
   "outputs": [
    {
     "name": "stdout",
     "output_type": "stream",
     "text": [
      "Requirement already satisfied: pillow in /Users/raph/opt/anaconda3/envs/python3/lib/python3.9/site-packages (8.4.0)\n",
      "Requirement already satisfied: pydicom in /Users/raph/opt/anaconda3/envs/python3/lib/python3.9/site-packages (2.2.2)\n",
      "asset-1\n",
      "asset-2\n",
      "asset-3\n"
     ]
    }
   ],
   "source": [
    "!pip install pillow\n",
    "!pip install pydicom\n",
    "from PIL import Image\n",
    "import pydicom\n",
    "\n",
    "def read_dcm_image(path):\n",
    "    dicom = pydicom.dcmread(path)\n",
    "    image = dicom.pixel_array\n",
    "    # Currently, Kili does not support windowing in the application.\n",
    "    # This will soon change, but until then we advise you to reduce the range to 256 values.\n",
    "    image = (image - image.min()) / (image.max() - image.min()) * 256\n",
    "    return Image.fromarray(image).convert('RGB')\n",
    "\n",
    "for asset_key in sorted_files.keys():\n",
    "    print(asset_key)\n",
    "    im = read_dcm_image(sorted_files[asset_key][20])\n",
    "    im.save(f'./img/frame_dicom_data_{asset_key}.png')"
   ]
  },
  {
   "cell_type": "markdown",
   "metadata": {},
   "source": [
    "![asset-1](./img/frame_dicom_data_asset-1.png)"
   ]
  },
  {
   "cell_type": "markdown",
   "metadata": {},
   "source": [
    "![asset-2](./img/frame_dicom_data_asset-2.png)"
   ]
  },
  {
   "cell_type": "markdown",
   "metadata": {},
   "source": [
    "![asset-3](./img/frame_dicom_data_asset-3.png)"
   ]
  },
  {
   "cell_type": "markdown",
   "metadata": {},
   "source": [
    "## Extracting and serving images"
   ]
  },
  {
   "cell_type": "markdown",
   "metadata": {},
   "source": [
    "For each of the dicom `.dcm` files, let's extract its content (image) and save it into a `.jpeg` image."
   ]
  },
  {
   "cell_type": "code",
   "execution_count": 8,
   "metadata": {},
   "outputs": [
    {
     "name": "stderr",
     "output_type": "stream",
     "text": [
      "100%|██████████| 201/201 [00:02<00:00, 99.05it/s]\n",
      "100%|██████████| 227/227 [00:02<00:00, 111.35it/s]\n",
      "100%|██████████| 329/329 [00:02<00:00, 111.17it/s]\n"
     ]
    }
   ],
   "source": [
    "sorted_images = {}\n",
    "for asset_key, files in sorted_files.items():\n",
    "    images = []\n",
    "    for file in tqdm.tqdm(files):\n",
    "        im = read_dcm_image(file)\n",
    "        im_file = file.replace('.dcm', '.jpeg')\n",
    "        im.save(im_file, format='JPEG')\n",
    "        images.append(im_file)\n",
    "    sorted_images[asset_key] = images"
   ]
  },
  {
   "cell_type": "markdown",
   "metadata": {},
   "source": [
    "We now have extracted jpeg images processable by Kili."
   ]
  },
  {
   "cell_type": "markdown",
   "metadata": {},
   "source": [
    "## Creating the project"
   ]
  },
  {
   "cell_type": "markdown",
   "metadata": {},
   "source": [
    "We can now import those assets into a FRAME project !\n",
    "\n",
    "Let's begin by creating a project"
   ]
  },
  {
   "cell_type": "code",
   "execution_count": 9,
   "metadata": {},
   "outputs": [],
   "source": [
    "## You can also directly create the interface on the application.\n",
    "interface = {\n",
    "\t\"jobRendererWidth\": 0.17,\n",
    "\t\"jobs\": {\n",
    "\t\t\"JOB_0\": {\n",
    "\t\t\t\"mlTask\": \"OBJECT_DETECTION\",\n",
    "\t\t\t\"tools\": [\n",
    "\t\t\t\t\"semantic\"\n",
    "\t\t\t],\n",
    "\t\t\t\"instruction\": \"Segment the right class\",\n",
    "\t\t\t\"required\": 1,\n",
    "\t\t\t\"isChild\": False,\n",
    "\t\t\t\"content\": {\n",
    "\t\t\t\t\"categories\": {\n",
    "\t\t\t\t\t\"BONE\": {\n",
    "\t\t\t\t\t\t\"name\": \"Bone\",\n",
    "\t\t\t\t\t\t\"children\": [],\n",
    "\t\t\t\t\t\t\"color\": \"#0755FF\"\n",
    "\t\t\t\t\t},\n",
    "\t\t\t\t\t\"LUNG\": {\n",
    "\t\t\t\t\t\t\"name\": \"Lung\",\n",
    "\t\t\t\t\t\t\"children\": [],\n",
    "\t\t\t\t\t\t\"color\": \"#EEBA00\"\n",
    "\t\t\t\t\t},\n",
    "\t\t\t\t\t\"TISSUE_0\": {\n",
    "\t\t\t\t\t\t\"name\": \"Tissue\",\n",
    "\t\t\t\t\t\t\"children\": [],\n",
    "\t\t\t\t\t\t\"color\": \"#941100\"\n",
    "\t\t\t\t\t}\n",
    "\t\t\t\t},\n",
    "\t\t\t\t\"input\": \"radio\"\n",
    "\t\t\t}\n",
    "\t\t}\n",
    "\t}\n",
    "}"
   ]
  },
  {
   "cell_type": "code",
   "execution_count": 19,
   "metadata": {},
   "outputs": [],
   "source": [
    "## Authentication\n",
    "from kili.client import Kili\n",
    "\n",
    "api_key = os.getenv('KILI_USER_API_KEY')\n",
    "api_endpoint = os.getenv('KILI_API_ENDPOINT') # If you use Kili SaaS, use the url 'https://cloud.kili-technology.com/api/label/v2/graphql'\n",
    "kili = Kili(api_key=api_key, api_endpoint=api_endpoint)\n",
    "\n",
    "## Project creation\n",
    "project = kili.create_project(\n",
    "    description='Demo FRAME project',\n",
    "    input_type='FRAME',\n",
    "    json_interface=interface,\n",
    "    title='Lungs from TCGA-LUAD'\n",
    ")\n",
    "project_id = project['id']"
   ]
  },
  {
   "cell_type": "markdown",
   "metadata": {},
   "source": [
    "## Importing images"
   ]
  },
  {
   "cell_type": "markdown",
   "metadata": {},
   "source": [
    "Finally, let's import the volumes using `appendManyToDataset` (see [link](https://staging.cloud.kili-technology.com/docs/python-graphql-api/python-api/#append_many_to_dataset)). The key argument is `json_content_array`, which is a list of list of strings. Each element is the list of urls or paths pointing to images of the volume considered.\n",
    " - Let's host these images locally to demonstrate how we would do it with cloud URLs for example :"
   ]
  },
  {
   "cell_type": "code",
   "execution_count": 20,
   "metadata": {},
   "outputs": [],
   "source": [
    "subprocess.Popen(f'python -m http.server 8001 --directory {ASSET_ROOT}',\n",
    "                 shell=True, stdin=None, stdout=None, stderr=None, close_fds=True)\n",
    "ROOT_URL = 'http://localhost:8001/'"
   ]
  },
  {
   "cell_type": "code",
   "execution_count": 21,
   "metadata": {},
   "outputs": [],
   "source": [
    "def files_to_urls(files):\n",
    "    return list(map(lambda file: ROOT_URL + file.split('TCGA-LUAD')[1], files))"
   ]
  },
  {
   "cell_type": "code",
   "execution_count": 22,
   "metadata": {},
   "outputs": [
    {
     "name": "stdout",
     "output_type": "stream",
     "text": [
      "Serving HTTP on :: port 8001 (http://[::]:8001/) ...\n"
     ]
    },
    {
     "name": "stderr",
     "output_type": "stream",
     "text": [
      "::ffff:127.0.0.1 - - [17/Nov/2021 15:46:54] \"GET //TCGA-38-6178/1.3.6.1.4.1.14519.5.2.1.8421.9002.202809566030427218073357767975/1.3.6.1.4.1.14519.5.2.1.8421.9002.904457022040486209623577407833/1-001.jpeg HTTP/1.1\" 200 -\n",
      "::ffff:127.0.0.1 - - [17/Nov/2021 15:46:54] \"GET //TCGA-17-Z048/1.3.6.1.4.1.14519.5.2.1.7777.9002.396332994220496621027459229776/1.3.6.1.4.1.14519.5.2.1.7777.9002.332000290595693469913725155050/1-001.jpeg HTTP/1.1\" 200 -\n",
      "::ffff:127.0.0.1 - - [17/Nov/2021 15:46:54] \"GET //TCGA-17-Z028/1.3.6.1.4.1.14519.5.2.1.7777.9002.835916295927999746162439870350/1.3.6.1.4.1.14519.5.2.1.7777.9002.272923823647562637898540440382/1-001.jpeg HTTP/1.1\" 200 -\n"
     ]
    },
    {
     "data": {
      "text/plain": [
       "{'id': 'ckw3n16at006o0cxx315q4y0x'}"
      ]
     },
     "execution_count": 22,
     "metadata": {},
     "output_type": "execute_result"
    }
   ],
   "source": [
    "kili.append_many_to_dataset(\n",
    "    project_id=project_id,\n",
    "    external_id_array=list(sorted_images.keys()),\n",
    "    json_content_array=list(map(files_to_urls, sorted_images.values()))\n",
    ")"
   ]
  },
  {
   "cell_type": "markdown",
   "metadata": {},
   "source": [
    "Or, as mentionned, you can simply provide the paths to your images, and call the function like below : "
   ]
  },
  {
   "cell_type": "code",
   "execution_count": 23,
   "metadata": {},
   "outputs": [
    {
     "data": {
      "text/plain": [
       "{'id': 'ckw3n16at006o0cxx315q4y0x'}"
      ]
     },
     "execution_count": 23,
     "metadata": {},
     "output_type": "execute_result"
    }
   ],
   "source": [
    "kili.append_many_to_dataset(\n",
    "    project_id=project_id,\n",
    "    external_id_array=list(map(lambda key: f'local-path-{key}',sorted_images.keys())),\n",
    "    json_content_array=list(sorted_images.values())\n",
    ")"
   ]
  },
  {
   "cell_type": "markdown",
   "metadata": {},
   "source": [
    "## Back to the interface"
   ]
  },
  {
   "cell_type": "markdown",
   "metadata": {},
   "source": [
    "We can see our assets were imported..."
   ]
  },
  {
   "cell_type": "code",
   "execution_count": 24,
   "metadata": {},
   "outputs": [
    {
     "name": "stdout",
     "output_type": "stream",
     "text": [
      "6\n"
     ]
    }
   ],
   "source": [
    "ds_size = kili.count_assets(project_id=project_id)\n",
    "print(ds_size)\n",
    "assert ds_size == 6"
   ]
  },
  {
   "cell_type": "markdown",
   "metadata": {},
   "source": [
    "![assets_inserted](img/assets_inserted.png)"
   ]
  },
  {
   "cell_type": "markdown",
   "metadata": {},
   "source": [
    "...we can now annotate those assets !"
   ]
  },
  {
   "cell_type": "markdown",
   "metadata": {},
   "source": [
    "![frame_annotation](img/frame_annotation.png)"
   ]
  }
 ],
 "metadata": {
  "kernelspec": {
   "display_name": "Python 3",
   "language": "python",
   "name": "python3"
  },
  "language_info": {
   "codemirror_mode": {
    "name": "ipython",
    "version": 3
   },
   "file_extension": ".py",
   "mimetype": "text/x-python",
   "name": "python",
   "nbconvert_exporter": "python",
   "pygments_lexer": "ipython3",
   "version": "3.9.7"
  }
 },
 "nbformat": 4,
 "nbformat_minor": 4
}
