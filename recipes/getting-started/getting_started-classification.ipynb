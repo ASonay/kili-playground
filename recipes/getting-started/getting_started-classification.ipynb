{
 "cells": [
  {
   "cell_type": "markdown",
   "metadata": {},
   "source": [
    "# Kili Tutorial: Getting started with Kili - Classification"
   ]
  },
  {
   "cell_type": "markdown",
   "metadata": {},
   "source": [
    "In this tutorial we show you how to start with a classification project.\n",
    "\n",
    "You can classify any kind of object : image, text, video, pdf, etc... For the sake of clarity we will use images in this tutorial. Here are the steps in this tutorial :\n",
    "\n",
    "1. [Connection to Kili](#connect)\n",
    "2. [Creating the project, setting up the interface](#project)\n",
    "3. [Importing data](#data)\n",
    "4. [Labeling](#labeling)\n",
    "5. [Exporting labels](#export)\n",
    "6. [More advanced concepts](#concepts)"
   ]
  },
  {
   "cell_type": "markdown",
   "metadata": {},
   "source": [
    "# Connecting to Kili <a id='connect'></a>"
   ]
  },
  {
   "cell_type": "markdown",
   "metadata": {},
   "source": [
    "First, you need to connect to the platform. \n",
    "\n",
    "If you use the SaaS version of Kili (see [here](https://cloud.kili-technology.com/docs/hosting/saas/)), you use by default the Auth0 login identification, or your company's authentication if it has been implemented. \n",
    "\n",
    "<img src=\"../img/auth0.png\" width=400>\n",
    "\n",
    "If you use Kili on premise (see [here](https://cloud.kili-technology.com/docs/hosting/on-premise-entreprise/)), you will probably use our own authentication :\n",
    "\n",
    "<img src=\"../img/noauth0.png\" width=400>\n",
    "\n",
    "You need your organization admin to create your profile, and depending on the authentication implementation, you can sign up and set your password, or use the temporary one provided to you by the admin."
   ]
  },
  {
   "cell_type": "markdown",
   "metadata": {},
   "source": [
    "# Creating the project <a id='project'></a>"
   ]
  },
  {
   "cell_type": "markdown",
   "metadata": {},
   "source": [
    "### List of projects"
   ]
  },
  {
   "cell_type": "markdown",
   "metadata": {},
   "source": [
    "You arrive on a list of projects.\n",
    "\n",
    "![](../img/project_list.png)\n",
    "\n",
    "You can refer to this [document](https://cloud.kili-technology.com/docs/definitions/definitions/) to find the definitions of key concepts at Kili. One of them is a project : it is a combination of :\n",
    "- a dataset (a list of assets)\n",
    "- members (project users, who can have different roles)\n",
    "- an interface, describing the annotation plan."
   ]
  },
  {
   "cell_type": "markdown",
   "metadata": {},
   "source": [
    "### Create the project "
   ]
  },
  {
   "cell_type": "markdown",
   "metadata": {},
   "source": [
    "You can either create a project [from the interface](https://cloud.kili-technology.com/docs/projects/new-project/#docsNav) or [from the API](https://github.com/kili-technology/kili-playground/blob/master/recipes/create_project.ipynb).\n",
    "\n",
    "From the interface, you get a list of predefined projects, which you can then modify.\n",
    "\n",
    "From the API, you can create a project with a single call, which allows you to store and share project interfaces : \n",
    "- First, [connect to Kili](https://github.com/kili-technology/kili-playground/blob/master/README.md#get-started)"
   ]
  },
  {
   "cell_type": "code",
   "execution_count": null,
   "metadata": {},
   "outputs": [],
   "source": [
    "# Authentication\n",
    "import os\n",
    "\n",
    "# !pip install kili # uncomment if you don't have kili installed already\n",
    "from kili.client import Kili\n",
    "\n",
    "api_key = os.getenv('KILI_USER_API_KEY')\n",
    "api_endpoint = os.getenv('KILI_API_ENDPOINT') # If you use Kili SaaS, use the url 'https://cloud.kili-technology.com/api/label/v2/graphql'\n",
    "\n",
    "kili = Kili(api_key=api_key, api_endpoint=api_endpoint)"
   ]
  },
  {
   "cell_type": "markdown",
   "metadata": {},
   "source": [
    "- Then call the method `create_project` : <a id='command'></a>\n",
    "```python\n",
    "kili.create_project(\n",
    "    title='Project Title',\n",
    "    description='Project Description',\n",
    "    input_type='IMAGE',\n",
    "    json_interface=interface\n",
    ")\n",
    "```\n",
    "\n",
    "with `interface` such as :"
   ]
  },
  {
   "cell_type": "code",
   "execution_count": 2,
   "metadata": {},
   "outputs": [],
   "source": [
    "interface = {\n",
    "  \"jobRendererWidth\": 0.17,\n",
    "  \"jobs\": {\n",
    "    \"JOB_0\": {\n",
    "      \"mlTask\": \"CLASSIFICATION\",\n",
    "      \"required\": 1,\n",
    "      \"content\": {\n",
    "        \"categories\": {\n",
    "          \"OBJECT_A\": {\n",
    "            \"name\": \"Object A\"\n",
    "          },\n",
    "          \"OBJECT_B\": {\n",
    "            \"name\": \"Object B\"\n",
    "          }\n",
    "        },\n",
    "        \"input\": \"radio\"\n",
    "      }\n",
    "    }\n",
    "  }\n",
    "}"
   ]
  },
  {
   "cell_type": "code",
   "execution_count": 3,
   "metadata": {},
   "outputs": [
    {
     "name": "stdout",
     "output_type": "stream",
     "text": [
      "{'id': 'ckm4pmqmk0000d49k6ewu2um5'}\n"
     ]
    }
   ],
   "source": [
    "result = kili.create_project(\n",
    "    title='Project Title',\n",
    "    description='Project Description',\n",
    "    input_type='IMAGE',\n",
    "    json_interface=interface\n",
    ")\n",
    "print(result)"
   ]
  },
  {
   "cell_type": "markdown",
   "metadata": {},
   "source": [
    "### Access your project"
   ]
  },
  {
   "cell_type": "markdown",
   "metadata": {},
   "source": [
    "This creates a project with a simple interface with a radio button and two categories : `Object A` and `Object B`.\n",
    "Once logged in, you can see your project in the list of projects : \n",
    "\n",
    "![](../img/project_in_list.png)"
   ]
  },
  {
   "cell_type": "markdown",
   "metadata": {},
   "source": [
    "Click on it : you arrive on the overview of the project :\n",
    "\n",
    "![](../img/project_overview.png)\n",
    "\n",
    "If you want to modify or view the interface, you can go to the settings tab. First, click on the settings button in the sidebar\n",
    "\n",
    "<img src=\"../img/sidebar_settings.png\" width=100>\n",
    "\n",
    "You can find both the form and the json versions of the interface :\n",
    "\n",
    "![](../img/project_settings.png)\n",
    "\n",
    "[Find out how to modify the interface dynamically !](https://cloud.kili-technology.com/docs/projects/customize-interface/#docsNav)\n",
    "\n",
    "If you want to go back to the list of projects, you can either click on `Kili Technology` in the top bar, or on the list of projects in the side bar :\n",
    "\n",
    "<img src=\"../img/sidebar_listprojects.png\" width=100>"
   ]
  },
  {
   "cell_type": "markdown",
   "metadata": {},
   "source": [
    "# Importing data <a id='data'></a>"
   ]
  },
  {
   "cell_type": "markdown",
   "metadata": {},
   "source": [
    "### Access your project from the API"
   ]
  },
  {
   "cell_type": "markdown",
   "metadata": {},
   "source": [
    "When you run the [command](#command) to create a project, it outputs a unique identifier of the project. This identifier is used to recognize, access and modify the project from the API\n",
    "\n",
    "<a id=\"command\"></a>\n",
    "```python\n",
    "kili.create_project(\n",
    "    title='Project Title',\n",
    "    description='Project Description',\n",
    "    input_type='IMAGE',\n",
    "    json_interface=interface\n",
    ")\n",
    "```\n",
    "\n",
    "Example of such an output :\n",
    "\n",
    "```python\n",
    "{'id': 'ckkpj7stx1bxc0jvk1gn9cu5v'}\n",
    "```\n",
    "\n",
    "Another way to get this project identifier is to look at the url you're in :\n",
    "\n",
    "![](../img/url_project.png)"
   ]
  },
  {
   "cell_type": "markdown",
   "metadata": {},
   "source": [
    "### Importing data"
   ]
  },
  {
   "cell_type": "markdown",
   "metadata": {},
   "source": [
    "The next step is to import data.\n",
    "\n",
    "You can either import data either [from the interface](https://cloud.kili-technology.com/docs/data-ingestion/data-ingestion-made-easy/) or [from the api](https://cloud.kili-technology.com/docs/python-graphql-api/recipes/import_assets/#kili-tutorial-importing-assets). \n",
    "\n",
    "With the api, simply call [this function](https://cloud.kili-technology.com/docs/python-graphql-api/python-api/#append_many_to_dataset) :\n",
    "\n",
    "```python\n",
    "kili.append_many_to_dataset(\n",
    "    project_id=\"ckkpj7stx1bxc0jvk1gn9cu5v\", \n",
    "    content_array=[\"path-to-local-image OR url-to-image\"],\n",
    "    external_id_array=[\"your-identifier-of-the-image\"]\n",
    ")\n",
    "```"
   ]
  },
  {
   "cell_type": "code",
   "execution_count": 4,
   "metadata": {},
   "outputs": [
    {
     "data": {
      "text/plain": [
       "{'id': 'ckm4pmqmk0000d49k6ewu2um5'}"
      ]
     },
     "execution_count": 4,
     "metadata": {},
     "output_type": "execute_result"
    }
   ],
   "source": [
    "# Example\n",
    "\n",
    "project_id = result['id']\n",
    "\n",
    "kili.append_many_to_dataset(\n",
    "    project_id=project_id, \n",
    "    content_array=[\"../img/car_2.jpg\"],\n",
    "    external_id_array=[\"car_2.jpg\"]\n",
    ")"
   ]
  },
  {
   "cell_type": "markdown",
   "metadata": {},
   "source": [
    "# Labeling <a id='labeling'></a>"
   ]
  },
  {
   "cell_type": "markdown",
   "metadata": {},
   "source": [
    "When you created the project, you automatically became an admin of the project. This means that you can directly label. If you want to add members to the project, follow https://cloud.kili-technology.com/docs/projects/settings/#manage-project-members."
   ]
  },
  {
   "cell_type": "markdown",
   "metadata": {},
   "source": [
    "### Label a specific asset"
   ]
  },
  {
   "cell_type": "markdown",
   "metadata": {},
   "source": [
    "To annotate a specific asset, you can go to the dataset tab (in the side panel) :\n",
    "\n",
    "<img src=\"../img/sidebar_dataset.png\" width=100>\n",
    "\n",
    "![](../img/project_dataset.png)\n",
    "\n",
    "On the table of the assets, simply click on the line/asset (i.e., image here) you want to annotate"
   ]
  },
  {
   "cell_type": "markdown",
   "metadata": {},
   "source": [
    "### Label the first asset in the queue"
   ]
  },
  {
   "cell_type": "markdown",
   "metadata": {},
   "source": [
    "Else, you can start to annotate right away with the `Start Labeling` button. "
   ]
  },
  {
   "cell_type": "markdown",
   "metadata": {},
   "source": [
    "### How to label ?"
   ]
  },
  {
   "cell_type": "markdown",
   "metadata": {},
   "source": [
    "You arrive on the asset `car_2.jpg` : \n",
    "\n",
    "![](../img/asset_viewer.png)\n",
    "\n",
    "You can select the category you want by clicking on the right radio button, or by pressing the key underlined in the class name \"o\" for Object A and \"b\" for Object B.\n",
    "\n",
    "Then, click on submit to send the label."
   ]
  },
  {
   "cell_type": "markdown",
   "metadata": {},
   "source": [
    "If you want to select more than one class (multiclass classification), you can choose a checkbox as the input : simply create a new classification job, and a checkbox as input :\n",
    "\n",
    "![](../img/input_choices.png)"
   ]
  },
  {
   "cell_type": "markdown",
   "metadata": {},
   "source": [
    "If you have long lists of classes, we advise you to use the dropdown inputs (either single choice or multiple choice whether you use multiclass classification or not. [For more information on classification, click here](https://cloud.kili-technology.com/docs/image-interfaces/classification/#single-choice)"
   ]
  },
  {
   "cell_type": "markdown",
   "metadata": {},
   "source": [
    "### Add a label from the API"
   ]
  },
  {
   "cell_type": "markdown",
   "metadata": {},
   "source": [
    "You can also add a label from the API.\n",
    "\n",
    "For that, you need to know the identifier of the asset (image). Either from the url when you are on an asset\n",
    "\n",
    "![](../img/asset_id_url.png)\n",
    "\n",
    "or from the API, retrieving the assets of the project :"
   ]
  },
  {
   "cell_type": "code",
   "execution_count": 5,
   "metadata": {},
   "outputs": [
    {
     "name": "stderr",
     "output_type": "stream",
     "text": [
      "100%|██████████| 1/1 [00:00<00:00, 27.40it/s]"
     ]
    },
    {
     "name": "stdout",
     "output_type": "stream",
     "text": [
      "ckm4pmuy30006d49kh0q64i0g\n"
     ]
    },
    {
     "name": "stderr",
     "output_type": "stream",
     "text": [
      "\n"
     ]
    }
   ],
   "source": [
    "assets = kili.assets(\n",
    "    project_id=project_id,\n",
    "    fields=['id']\n",
    ")\n",
    "asset_id = assets[0]['id']\n",
    "print(asset_id)"
   ]
  },
  {
   "cell_type": "code",
   "execution_count": 6,
   "metadata": {},
   "outputs": [
    {
     "data": {
      "text/plain": [
       "{'id': 'ckm4pmzlj0009d49k1avaeubv'}"
      ]
     },
     "execution_count": 6,
     "metadata": {},
     "output_type": "execute_result"
    }
   ],
   "source": [
    "kili.append_to_labels(\n",
    "    json_response={'JOB_0': {'categories': [{'name': 'OBJECT_A'}]}},\n",
    "    label_asset_id=asset_id,\n",
    "    project_id=project_id\n",
    ")"
   ]
  },
  {
   "cell_type": "markdown",
   "metadata": {},
   "source": [
    "# Exporting labels <a id='export'></a>"
   ]
  },
  {
   "cell_type": "markdown",
   "metadata": {},
   "source": [
    "### Through the interface"
   ]
  },
  {
   "cell_type": "markdown",
   "metadata": {},
   "source": [
    "In the dataset tab, you can export your labels. \n",
    "\n",
    "![](../img/dataset_labeled.png)\n",
    "\n",
    "1. Choose your format and click on download : an asynchronous job is triggered, preparing your data \n",
    "2. A few moments later, you get a notification : click on it, and click on the download button to download your data.\n",
    "\n",
    "Notification appears | Notification list\n",
    ":--:|:--:\n",
    "![](../img/notification_appears.png) | <img src=\"../img/notification_opened.png\" width=400>"
   ]
  },
  {
   "cell_type": "markdown",
   "metadata": {},
   "source": [
    "If you choose Kili's classic API format, you get this file :\n",
    "\n",
    "```json\n",
    "[\n",
    "  {\n",
    "    \"content\": \"https://cloud.kili-technology.com/api/label/v2/files?id=f436f198-cede-4380-a119-f5d827f8a8fa\",\n",
    "    \"externalId\": \"car_2.jpg\",\n",
    "    \"id\": \"ckm0ligy900uuc49k1idydxsk\",\n",
    "    \"jsonMetadata\": {},\n",
    "    \"labels\": [\n",
    "      {\n",
    "        \"author\": {\n",
    "          \"email\": \"email of the author of the label\",\n",
    "          \"id\": \"id of the author of the label\",\n",
    "          \"name\": \"Admin\"\n",
    "        },\n",
    "        \"createdAt\": \"2021-03-08T14:32:09.063Z\",\n",
    "        \"isLatestLabelForUser\": true,\n",
    "        \"jsonResponse\": {\n",
    "          \"JOB_0\": { \"categories\": [{ \"confidence\": 100, \"name\": \"OBJECT_A\" }] }\n",
    "        },\n",
    "        \"labelType\": \"DEFAULT\",\n",
    "        \"modelName\": null,\n",
    "        \"skipped\": false\n",
    "      }\n",
    "    ]\n",
    "  }\n",
    "]\n",
    "```\n",
    "\n",
    "[For details on the data export, click here](https://cloud.kili-technology.com/docs/data-export/data-export/#docsNav)"
   ]
  },
  {
   "cell_type": "markdown",
   "metadata": {},
   "source": [
    "### Through the API"
   ]
  },
  {
   "cell_type": "markdown",
   "metadata": {},
   "source": [
    "Of course, you can export your labels from the API :"
   ]
  },
  {
   "cell_type": "code",
   "execution_count": 7,
   "metadata": {},
   "outputs": [
    {
     "data": {
      "text/plain": [
       "[{'author': {'email': 'email of the author of the label',\n",
       "   'id': 'identifier of the author of the label',\n",
       "   'name': 'name of the author of the label'},\n",
       "  'id': 'ckm4pmzlj0009d49k1avaeubv',\n",
       "  'jsonResponse': {'JOB_0': {'categories': [{'name': 'OBJECT_A'}]}},\n",
       "  'labelType': 'DEFAULT',\n",
       "  'secondsToLabel': 0,\n",
       "  'skipped': False}]"
      ]
     },
     "execution_count": 7,
     "metadata": {},
     "output_type": "execute_result"
    }
   ],
   "source": [
    "labels = kili.labels(\n",
    "    project_id=project_id\n",
    ")\n",
    "\n",
    "def hide_sensitive(label):\n",
    "    label['author'] = {\n",
    "        'email': 'email of the author of the label',\n",
    "        'id': 'identifier of the author of the label',\n",
    "        'name': 'name of the author of the label'\n",
    "    }\n",
    "    return label\n",
    "\n",
    "result_hidden = [hide_sensitive(label) for label in labels]\n",
    "result_hidden"
   ]
  },
  {
   "cell_type": "markdown",
   "metadata": {},
   "source": [
    "Our API uses graphql : you can simply choose the fields you want to fetch by specifying a list :"
   ]
  },
  {
   "cell_type": "code",
   "execution_count": 8,
   "metadata": {},
   "outputs": [
    {
     "data": {
      "text/plain": [
       "[{'labelOf': {'externalId': 'car_2.jpg'},\n",
       "  'id': 'ckm4pmzlj0009d49k1avaeubv',\n",
       "  'createdAt': '2021-03-11T10:10:20.984Z'}]"
      ]
     },
     "execution_count": 8,
     "metadata": {},
     "output_type": "execute_result"
    }
   ],
   "source": [
    "labels = kili.labels(\n",
    "    project_id=project_id,\n",
    "    fields=['id', 'createdAt', 'labelOf.externalId']\n",
    ")\n",
    "assert len(labels) > 0\n",
    "labels"
   ]
  },
  {
   "cell_type": "markdown",
   "metadata": {},
   "source": [
    "Of course, you have plenty more options / filters :"
   ]
  },
  {
   "cell_type": "code",
   "execution_count": 9,
   "metadata": {},
   "outputs": [
    {
     "name": "stdout",
     "output_type": "stream",
     "text": [
      "Help on method labels in module kili.queries.label:\n",
      "\n",
      "labels(asset_id: str = None, asset_status_in: List[str] = None, asset_external_id_in: List[str] = None, author_in: List[str] = None, created_at: str = None, created_at_gte: str = None, created_at_lte: str = None, fields: list = ['author.email', 'author.id', 'author.name', 'id', 'jsonResponse', 'labelType', 'secondsToLabel', 'skipped'], first: int = None, honeypot_mark_gte: float = None, honeypot_mark_lte: float = None, id_contains: List[str] = None, json_response_contains: List[str] = None, label_id: str = None, project_id: str = None, skip: int = 0, skipped: bool = None, type_in: List[str] = None, user_id: str = None) method of kili.playground.Playground instance\n",
      "    Get an array of labels from a project given a set of criteria\n",
      "    \n",
      "    Parameters\n",
      "    ----------\n",
      "    - asset_id : str, optional (default = None)\n",
      "        Identifier of the asset.\n",
      "    - asset_status_in : list of str, optional (default = None)\n",
      "        Returned labels should have a status that belongs to that list, if given.\n",
      "        Possible choices : {'TODO', 'ONGOING', 'LABELED', 'REVIEWED'}\n",
      "    - asset_external_id_in : list of str, optional (default = None)\n",
      "        Returned labels should have an external id that belongs to that list, if given.\n",
      "    - author_in : list of str, optional (default = None)\n",
      "        Returned labels should have a label whose status belongs to that list, if given.\n",
      "    - created_at : string, optional (default = None)\n",
      "        Returned labels should have a label whose creation date is equal to this date.\n",
      "        Formatted string should have format : \"YYYY-MM-DD\"\n",
      "    - created_at_gt : string, optional (default = None)\n",
      "        Returned labels should have a label whose creation date is greater than this date.\n",
      "        Formatted string should have format : \"YYYY-MM-DD\"\n",
      "    - created_at_lt : string, optional (default = None)\n",
      "        Returned labels should have a label whose creation date is lower than this date.\n",
      "        Formatted string should have format : \"YYYY-MM-DD\"\n",
      "    - fields : list of string, optional (default = ['author.email', 'author.id','author.name', 'id', 'jsonResponse', 'labelType', 'secondsToLabel', 'skipped'])\n",
      "        All the fields to request among the possible fields for the labels.\n",
      "        See [the documentation](https://cloud.kili-technology.com/docs/python-graphql-api/graphql-api/#label) for all possible fields.\n",
      "    - first : int, optional (default = None)\n",
      "        Maximum number of labels to return.  Can only be between 0 and 100.\n",
      "    - honeypot_mark_gt : float, optional (default = None)\n",
      "        Returned labels should have a label whose honeypot is greater than this number.\n",
      "    - honeypot_mark_lt : float, optional (default = None)\n",
      "        Returned labels should have a label whose honeypot is lower than this number.\n",
      "    - id_contains : list of str, optional (default = None)\n",
      "        Filters out labels not belonging to that list. If empty, no filtering is applied.\n",
      "    - json_response_contains : list of str, optional (default = None)\n",
      "        Returned labels should have a substring of the jsonResponse that belongs to that list, if given.\n",
      "    - label_id : str\n",
      "        Identifier of the label.\n",
      "    - project_id : str\n",
      "        Identifier of the project.\n",
      "    - skip : int, optional (default = None)\n",
      "        Number of labels to skip (they are ordered by their date of creation, first to last).\n",
      "    - skipped : bool, optional (default = None)\n",
      "        Returned labels should have a label which is skipped\n",
      "    - type_in : list of str, optional (default = None)\n",
      "        Returned labels should have a label whose type belongs to that list, if given.\n",
      "    - user_id : str\n",
      "        Identifier of the user.\n",
      "    \n",
      "    \n",
      "    Returns\n",
      "    -------\n",
      "    - a result object which contains the query if it was successful, or an error message else.\n",
      "    \n",
      "    Examples\n",
      "    -------\n",
      "    >>> # List all labels of a project and their assets external ID\n",
      "    >>> playground.labels(project_id=project_id, fields=['jsonResponse', 'labelOf.externalId'])\n",
      "\n"
     ]
    }
   ],
   "source": [
    "help(kili.labels)"
   ]
  },
  {
   "cell_type": "markdown",
   "metadata": {},
   "source": [
    "# More advanced concepts <a id='concepts'></a>"
   ]
  },
  {
   "cell_type": "markdown",
   "metadata": {},
   "source": [
    "Here we list some of the more advanced features :\n",
    "\n",
    "- [Importing predictions](https://cloud.kili-technology.com/docs/python-graphql-api/recipes/import_predictions/#docsNav)\n",
    "- [Quality management](https://cloud.kili-technology.com/docs/quality/quality-management/#docsNav)\n",
    "- Settings up quality metrics : [consensus](https://cloud.kili-technology.com/docs/quality/consensus/#docsNav), [honeypot](https://cloud.kili-technology.com/docs/quality/honeypot/)\n",
    "- [Reviewing the labels](https://cloud.kili-technology.com/docs/quality/review-process/#docsNav)\n",
    "- [Issue/Question system](https://cloud.kili-technology.com/docs/quality/question-issue/#docsNav)\n",
    "\n",
    "[The full API definition can be found here](https://cloud.kili-technology.com/docs/python-graphql-api/python-api/#docsNav)"
   ]
  }
 ],
 "metadata": {
  "kernelspec": {
   "display_name": "Python 3",
   "language": "python",
   "name": "python3"
  },
  "language_info": {
   "codemirror_mode": {
    "name": "ipython",
    "version": 3
   },
   "file_extension": ".py",
   "mimetype": "text/x-python",
   "name": "python",
   "nbconvert_exporter": "python",
   "pygments_lexer": "ipython3",
   "version": "3.7.6"
  }
 },
 "nbformat": 4,
 "nbformat_minor": 4
}